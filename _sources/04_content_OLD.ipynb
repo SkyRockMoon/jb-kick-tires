{
 "cells": [
  {
   "cell_type": "markdown",
   "id": "vertical-press",
   "metadata": {},
   "source": [
    "(content)=\n",
    "# Add content to the book"
   ]
  },
  {
   "cell_type": "markdown",
   "id": "instant-hamburg",
   "metadata": {},
   "source": [
    "This section covers how to add content to your book. To utilize jupyter-book you will have to ultimately become very familiar with the [official jupyter-book documentation](https://jupyterbook.org). However for the purposes of kicking the tires this section will take you through the features that are either critical to use, or just cool. Many details will be skipped for the purposes of illustrating what authoring a book with jupyter-book might really be like.\n",
    "\n",
    "In an effort to make things more exciting this section will take you through a narative of adding a new chapter to the [book you cloned](clone) while installing jupyter-book. After getting a feel for how everything works in this section you will probably graduate to just useing the [jupyter-book cheat sheet](https://jupyterbook.org/reference/cheatsheet.html) to rapidly find the syntax details you need. \n",
    "\n",
    "Your mission, if you choose to accept it, is to add a chapter about dinosours to the book you cloned earlier. Don't worry if your palentology skills are rusty, the focus of this activity is on writing technical documents. You can expect to acomplish the following things while following along with this chapter.\n",
    "\n",
    "1. Create a new chapter about dinosaurs\n",
    "1. Edit `_toc.yml` to include your new chapter\n",
    "1. Write some basic Markdown and MyST commands\n",
    "    - Headings\n",
    "    - Lists\n",
    "    - Code blocks\n",
    "    - Footnotes\n",
    "    - Margin notes\n",
    "    - admonations\n",
    "    - links (internal/external)\n",
    "\n",
    "    \n",
    "1. Add numbered content: figures, equations, tables \n",
    "1. Add references to numberd items\n",
    "1. Embed (glue) results from your analysis in a jupyter notebook directly into your text content\n",
    "1. Citations/bibliography\n",
    "1. Enable comments and annotations\n"
   ]
  },
  {
   "cell_type": "code",
   "execution_count": null,
   "id": "freelance-contrary",
   "metadata": {},
   "outputs": [],
   "source": []
  }
 ],
 "metadata": {
  "kernelspec": {
   "display_name": "Python 3",
   "language": "python",
   "name": "python3"
  },
  "language_info": {
   "codemirror_mode": {
    "name": "ipython",
    "version": 3
   },
   "file_extension": ".py",
   "mimetype": "text/x-python",
   "name": "python",
   "nbconvert_exporter": "python",
   "pygments_lexer": "ipython3",
   "version": "3.8.7"
  }
 },
 "nbformat": 4,
 "nbformat_minor": 5
}