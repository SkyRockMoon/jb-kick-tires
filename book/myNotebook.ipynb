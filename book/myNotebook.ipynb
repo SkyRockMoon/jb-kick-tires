{
 "cells": [
  {
   "cell_type": "markdown",
   "id": "according-mattress",
   "metadata": {},
   "source": [
    "# Writing in your jupyter notebook"
   ]
  },
  {
   "cell_type": "code",
   "execution_count": 1,
   "id": "prostate-mitchell",
   "metadata": {},
   "outputs": [],
   "source": [
    "import numpy as np\n",
    "import matplotlib.pyplot as plt"
   ]
  },
  {
   "cell_type": "code",
   "execution_count": 2,
   "id": "friendly-doctor",
   "metadata": {},
   "outputs": [
    {
     "data": {
      "text/plain": [
       "[<matplotlib.lines.Line2D at 0x7fb7eaba8a30>]"
      ]
     },
     "execution_count": 2,
     "metadata": {},
     "output_type": "execute_result"
    },
    {
     "data": {
      "image/png": "[encoded data removed]",
      "text/plain": [
       "<Figure size 432x288 with 1 Axes>"
      ]
     },
     "metadata": {
      "needs_background": "light"
     },
     "output_type": "display_data"
    }
   ],
   "source": [
    "N = 10\n",
    "x = np.random.randn(N)\n",
    "y = np.random.randn(N)\n",
    "\n",
    "plt.plot(x,y,'o')"
   ]
  },
  {
   "cell_type": "markdown",
   "id": "played-leadership",
   "metadata": {},
   "source": [
    "```{note}\n",
    "This is a directive using myst\n",
    "```"
   ]
  },
  {
   "cell_type": "markdown",
   "id": "collectible-economy",
   "metadata": {},
   "source": [
    "## Tags\n",
    "\n",
    "In jupyter notebook, View > Cell toolbar > Tags\n"
   ]
  },
  {
   "cell_type": "markdown",
   "id": "irish-differential",
   "metadata": {},
   "source": [
    "### hide-input tag"
   ]
  },
  {
   "cell_type": "code",
   "execution_count": 3,
   "id": "consistent-rwanda",
   "metadata": {
    "tags": [
     "hide-input"
    ]
   },
   "outputs": [
    {
     "name": "stdout",
     "output_type": "stream",
     "text": [
      "this is index 0\n",
      "this is index 1\n",
      "this is index 2\n",
      "this is index 3\n",
      "this is index 4\n",
      "this is index 5\n",
      "this is index 6\n",
      "this is index 7\n",
      "this is index 8\n",
      "this is index 9\n",
      "this is index 10\n",
      "this is index 11\n"
     ]
    }
   ],
   "source": [
    "for i in range(12):\n",
    "    print(f\"this is index {i}\")"
   ]
  },
  {
   "cell_type": "markdown",
   "id": "seeing-picture",
   "metadata": {},
   "source": [
    "### hide-output tag"
   ]
  },
  {
   "cell_type": "code",
   "execution_count": 4,
   "id": "worldwide-gentleman",
   "metadata": {
    "tags": [
     "hide-output"
    ]
   },
   "outputs": [
    {
     "name": "stdout",
     "output_type": "stream",
     "text": [
      "This output should be hidden: 6\n"
     ]
    }
   ],
   "source": [
    "a = 3\n",
    "print(f\"This output should be hidden: {a+a}\")"
   ]
  },
  {
   "cell_type": "markdown",
   "id": "coral-accommodation",
   "metadata": {},
   "source": [
    "### remove-input tag"
   ]
  },
  {
   "cell_type": "code",
   "execution_count": 5,
   "id": "advisory-notion",
   "metadata": {
    "tags": [
     "remove-input"
    ]
   },
   "outputs": [
    {
     "data": {
      "text/plain": [
       "[<matplotlib.lines.Line2D at 0x7fb7e2a82ee0>]"
      ]
     },
     "execution_count": 5,
     "metadata": {},
     "output_type": "execute_result"
    },
    {
     "data": {
      "image/png": "[encoded data removed]",
      "text/plain": [
       "<Figure size 432x288 with 1 Axes>"
      ]
     },
     "metadata": {
      "needs_background": "light"
     },
     "output_type": "display_data"
    }
   ],
   "source": [
    "N = 100\n",
    "x = np.random.randn(N)\n",
    "y = np.random.randn(N)\n",
    "\n",
    "plt.plot(x,y,'o',color='red')"
   ]
  },
  {
   "cell_type": "markdown",
   "id": "current-venice",
   "metadata": {},
   "source": [
    "### remove-output tag"
   ]
  },
  {
   "cell_type": "code",
   "execution_count": 6,
   "id": "regulation-henry",
   "metadata": {
    "tags": [
     "remove-output"
    ]
   },
   "outputs": [
    {
     "name": "stdout",
     "output_type": "stream",
     "text": [
      "20\n"
     ]
    }
   ],
   "source": [
    "a = 10 + 10\n",
    "print(a)"
   ]
  },
  {
   "cell_type": "markdown",
   "id": "agricultural-warehouse",
   "metadata": {},
   "source": [
    "### remove-cell tag"
   ]
  },
  {
   "cell_type": "code",
   "execution_count": 7,
   "id": "contained-prime",
   "metadata": {
    "tags": [
     "remove-cell"
    ]
   },
   "outputs": [
    {
     "name": "stdout",
     "output_type": "stream",
     "text": [
      "la lal la\n"
     ]
    }
   ],
   "source": [
    "# Should not be able to see this\n",
    "print(\"la lal la\")"
   ]
  },
  {
   "cell_type": "markdown",
   "id": "damaged-disposition",
   "metadata": {},
   "source": [
    "## Glue"
   ]
  },
  {
   "cell_type": "code",
   "execution_count": 8,
   "id": "surprising-amplifier",
   "metadata": {},
   "outputs": [
    {
     "data": {
      "text/plain": [
       "'my variable!'"
      ]
     },
     "metadata": {
      "scrapbook": {
       "mime_prefix": "",
       "name": "my_variable"
      }
     },
     "output_type": "display_data"
    }
   ],
   "source": [
    "from myst_nb import glue\n",
    "a = \"my variable!\"\n",
    "glue(\"my_variable\", a)"
   ]
  },
  {
   "cell_type": "markdown",
   "id": "competent-cleaners",
   "metadata": {},
   "source": [
    "You can then insert it into your text like so: {glue:}`my_variable`"
   ]
  },
  {
   "cell_type": "code",
   "execution_count": 9,
   "id": "informal-lobby",
   "metadata": {},
   "outputs": [
    {
     "data": {
      "text/plain": [
       "42"
      ]
     },
     "metadata": {
      "scrapbook": {
       "mime_prefix": "",
       "name": "myLabel"
      }
     },
     "output_type": "display_data"
    }
   ],
   "source": [
    "myVar = 42\n",
    "glue(\"myLabel\", myVar )"
   ]
  },
  {
   "cell_type": "markdown",
   "id": "structural-comment",
   "metadata": {},
   "source": [
    "You can then insert it into your text like so: {glue:}`myLabel`"
   ]
  },
  {
   "cell_type": "code",
   "execution_count": 10,
   "id": "animal-administration",
   "metadata": {},
   "outputs": [
    {
     "data": {
      "application/papermill.record/image/png": "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\n",
      "application/papermill.record/text/plain": "<Figure size 432x144 with 1 Axes>"
     },
     "metadata": {
      "scrapbook": {
       "mime_prefix": "application/papermill.record/",
       "name": "squiggle"
      }
     },
     "output_type": "display_data"
    },
    {
     "data": {
      "image/png": "[encoded data removed]",
      "text/plain": [
       "<Figure size 432x144 with 1 Axes>"
      ]
     },
     "metadata": {
      "needs_background": "light"
     },
     "output_type": "display_data"
    }
   ],
   "source": [
    "N = 100\n",
    "r = np.cumsum(np.random.randn(N))\n",
    "\n",
    "fig, ax = plt.subplots(figsize=(6, 2))\n",
    "ax.plot(r, lw=3, c='r')\n",
    "ax.set_axis_off()\n",
    "\n",
    "glue(\"squiggle\", fig, display=False)"
   ]
  },
  {
   "cell_type": "markdown",
   "id": "concrete-third",
   "metadata": {},
   "source": [
    "Will this show the squiggle? {glue:}`squiggle`"
   ]
  },
  {
   "cell_type": "code",
   "execution_count": 11,
   "id": "lesbian-economy",
   "metadata": {},
   "outputs": [
    {
     "data": {
      "text/plain": [
       "3.141592653589793"
      ]
     },
     "metadata": {
      "scrapbook": {
       "mime_prefix": "",
       "name": "myPie"
      }
     },
     "output_type": "display_data"
    }
   ],
   "source": [
    "pi = np.pi\n",
    "glue(\"myPie\", pi )"
   ]
  },
  {
   "cell_type": "markdown",
   "id": "practical-curve",
   "metadata": {},
   "source": [
    "```{glue:figure} squiggle\n",
    ":figwidth: 300px\n",
    ":name: \"fig-squiggle\"\n",
    ":align: \"center\"\n",
    "\n",
    "This is a caption on a figure inserted with `{glue:figure}`, for bonus points there is an embedded `{glue:text}` element that was formatted: {glue:text}`myPie:.2f`!\n",
    "```"
   ]
  },
  {
   "cell_type": "code",
   "execution_count": null,
   "id": "mature-ethnic",
   "metadata": {},
   "outputs": [],
   "source": []
  }
 ],
 "metadata": {
  "celltoolbar": "Tags",
  "kernelspec": {
   "display_name": "Python 3",
   "language": "python",
   "name": "python3"
  },
  "language_info": {
   "codemirror_mode": {
    "name": "ipython",
    "version": 3
   },
   "file_extension": ".py",
   "mimetype": "text/x-python",
   "name": "python",
   "nbconvert_exporter": "python",
   "pygments_lexer": "ipython3",
   "version": "3.8.7"
  }
 },
 "nbformat": 4,
 "nbformat_minor": 5
}
