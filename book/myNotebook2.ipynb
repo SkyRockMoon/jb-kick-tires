{
 "cells": [
  {
   "cell_type": "code",
   "execution_count": 1,
   "id": "static-korean",
   "metadata": {},
   "outputs": [
    {
     "data": {
      "application/papermill.record/image/png": "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\n",
      "application/papermill.record/text/plain": "<Figure size 432x288 with 1 Axes>"
     },
     "metadata": {
      "scrapbook": {
       "mime_prefix": "application/papermill.record/",
       "name": "random-fig"
      }
     },
     "output_type": "display_data"
    },
    {
     "data": {
      "text/plain": [
       "'42'"
      ]
     },
     "metadata": {
      "scrapbook": {
       "mime_prefix": "",
       "name": "myLabel"
      }
     },
     "output_type": "display_data"
    },
    {
     "data": {
      "application/papermill.record/text/plain": "-0.1828470237223234"
     },
     "metadata": {
      "scrapbook": {
       "mime_prefix": "application/papermill.record/",
       "name": "avg"
      }
     },
     "output_type": "display_data"
    },
    {
     "data": {
      "application/papermill.record/text/plain": "2.0955307236364624"
     },
     "metadata": {
      "scrapbook": {
       "mime_prefix": "application/papermill.record/",
       "name": "upper"
      }
     },
     "output_type": "display_data"
    },
    {
     "data": {
      "application/papermill.record/text/plain": "-2.4612247710811093"
     },
     "metadata": {
      "scrapbook": {
       "mime_prefix": "application/papermill.record/",
       "name": "lower"
      }
     },
     "output_type": "display_data"
    },
    {
     "data": {
      "image/png": "[encoded data removed]",
      "text/plain": [
       "<Figure size 432x288 with 1 Axes>"
      ]
     },
     "metadata": {
      "needs_background": "light"
     },
     "output_type": "display_data"
    }
   ],
   "source": [
    "import numpy as np\n",
    "import matplotlib.pyplot as plt\n",
    "from myst_nb import glue\n",
    "\n",
    "fig, ax = plt.subplots()\n",
    "N = 100\n",
    "x = np.random.randn(N)\n",
    "y = np.random.randn(N)\n",
    "\n",
    "plt.plot(x,y,'o')\n",
    "glue('random-fig',fig, display=False)\n",
    "\n",
    "myVar = \"42\"\n",
    "glue(\"myLabel\", myVar )\n",
    "\n",
    "m = np.mean(y)\n",
    "s = np.std(y)\n",
    "up = m+2*s\n",
    "low = m-2*s \n",
    "# interval = f'{m} (95% CI {m-2*s}/{m+2*s})'\n",
    "# glue('confidence-interval', interval)\n",
    "\n",
    "glue('avg',m, display=False)\n",
    "glue('upper',up, display=False)\n",
    "glue('lower',low, display=False)"
   ]
  },
  {
   "cell_type": "code",
   "execution_count": null,
   "id": "universal-scroll",
   "metadata": {},
   "outputs": [],
   "source": []
  }
 ],
 "metadata": {
  "kernelspec": {
   "display_name": "Python 3",
   "language": "python",
   "name": "python3"
  },
  "language_info": {
   "codemirror_mode": {
    "name": "ipython",
    "version": 3
   },
   "file_extension": ".py",
   "mimetype": "text/x-python",
   "name": "python",
   "nbconvert_exporter": "python",
   "pygments_lexer": "ipython3",
   "version": "3.8.7"
  }
 },
 "nbformat": 4,
 "nbformat_minor": 5
}
